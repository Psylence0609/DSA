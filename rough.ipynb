{
 "cells": [
  {
   "cell_type": "code",
   "execution_count": 1,
   "metadata": {},
   "outputs": [
    {
     "name": "stdout",
     "output_type": "stream",
     "text": [
      "s2\n"
     ]
    }
   ],
   "source": [
    "s1 = 'Praneet'\n",
    "s2 = 'Max'\n",
    "if s1 < s2:\n",
    "    print('s1')\n",
    "else:\n",
    "    print('s2')"
   ]
  }
 ],
 "metadata": {
  "kernelspec": {
   "display_name": "ECEN",
   "language": "python",
   "name": "python3"
  },
  "language_info": {
   "codemirror_mode": {
    "name": "ipython",
    "version": 3
   },
   "file_extension": ".py",
   "mimetype": "text/x-python",
   "name": "python",
   "nbconvert_exporter": "python",
   "pygments_lexer": "ipython3",
   "version": "3.10.13"
  }
 },
 "nbformat": 4,
 "nbformat_minor": 2
}
